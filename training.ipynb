{
 "cells": [
  {
   "cell_type": "code",
   "execution_count": null,
   "metadata": {},
   "outputs": [],
   "source": [
    "from classification_model import vgg_unet  \n",
    "from train import train\n",
    "import keras\n",
    "import os\n",
    "\n",
    "\n",
    "train_images = \"training_data/train_images\"\n",
    "train_annotations = \"training_data/train_annotations\"\n",
    "val_images = \"training_data/val_images\"\n",
    "val_annotations = \"training_data/val_annotations\"\n",
    "epochs = 5  \n",
    "batch_size = 16 \n",
    "steps_per_epoch= len(os.listdir(train_annotations)) // batch_size\n",
    "val_steps_per_epoch=len(os.listdir(val_images)) // batch_size  \n",
    "print(steps_per_epoch)\n",
    "print(val_steps_per_epoch)\n",
    "\n",
    "model = vgg_unet(n_classes = 27, input_height=416, input_width=608, encoder_level=3, channels=3)\n",
    "\n",
    "train(\n",
    "    model=model,\n",
    "    train_images=train_images,\n",
    "    train_annotations=train_annotations,\n",
    "    epochs=epochs,\n",
    "    batch_size=batch_size,\n",
    "    steps_per_epoch=steps_per_epoch,\n",
    "    validate=True,\n",
    "    val_images=val_images,\n",
    "    val_annotations=val_annotations,\n",
    "    val_steps_per_epoch=val_steps_per_epoch,\n",
    ")\n"
   ]
  },
  {
   "cell_type": "code",
   "execution_count": 2,
   "metadata": {},
   "outputs": [
    {
     "name": "stdout",
     "output_type": "stream",
     "text": [
      "Saving model weights to checkpoints\\model.weights.h5\n"
     ]
    }
   ],
   "source": [
    "import os\n",
    "weights_path = os.path.join(\"checkpoints\", \"model.weights.h5\")\n",
    "print(f\"Saving model weights to {weights_path}\")\n",
    "model.save_weights(weights_path)"
   ]
  }
 ],
 "metadata": {
  "kernelspec": {
   "display_name": "base",
   "language": "python",
   "name": "python3"
  },
  "language_info": {
   "codemirror_mode": {
    "name": "ipython",
    "version": 3
   },
   "file_extension": ".py",
   "mimetype": "text/x-python",
   "name": "python",
   "nbconvert_exporter": "python",
   "pygments_lexer": "ipython3",
   "version": "3.11.9"
  }
 },
 "nbformat": 4,
 "nbformat_minor": 2
}
